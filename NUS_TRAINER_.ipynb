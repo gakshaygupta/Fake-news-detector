{
 "cells": [
  {
   "cell_type": "code",
   "execution_count": null,
   "metadata": {
    "colab": {
     "base_uri": "https://localhost:8080/",
     "height": 443
    },
    "colab_type": "code",
    "id": "zrS-nXUyZfwr",
    "outputId": "25dd5f71-a32e-4dff-997d-e4ec6b5bb505"
   },
   "outputs": [],
   "source": [
    "!wget \"http://nlp.stanford.edu/data/glove.6B.zip\"\n",
    "!unzip \"glove.6B.zip\""
   ]
  },
  {
   "cell_type": "code",
   "execution_count": null,
   "metadata": {
    "colab": {
     "base_uri": "https://localhost:8080/",
     "height": 1000
    },
    "colab_type": "code",
    "id": "ym1gELWte7Bs",
    "outputId": "1250a979-e6bf-4e41-acbf-05f0b96fbd4b"
   },
   "outputs": [],
   "source": [
    "!python train.py --input \"input/train.csv\" --output \"output/train_out_onehot.npy\" --src_embeddings \"glove.6B.300d.txt\" --save \"FAKE_LIAR\" --save_interval 1 --log_interval 1 --validation_input \"input/val.csv\" --validation_output \"output/val_out_onehot.npy\"  --epochs 100 --batch 50 --layers 1 --learning_rate 0.001 --hidden 20 --dropout 0.5"
   ]
  },
  {
   "cell_type": "code",
   "execution_count": null,
   "metadata": {
    "colab": {
     "base_uri": "https://localhost:8080/",
     "height": 86
    },
    "colab_type": "code",
    "id": "mounQAjZni_Y",
    "outputId": "0692a32e-9e2b-43d4-bf9e-a1274db29c58"
   },
   "outputs": [],
   "source": [
    "!python translate.py --model 'path of the saved model which gave highest accuracy while training' --batch_size 100 --input \"input/test.csv\" --output \"output/test_out_onehot.npy\""
   ]
  },
  {
   "cell_type": "code",
   "execution_count": null,
   "metadata": {
    "colab": {},
    "colab_type": "code",
    "id": "pvgeRntroVnN"
   },
   "outputs": [],
   "source": []
  }
 ],
 "metadata": {
  "accelerator": "GPU",
  "colab": {
   "collapsed_sections": [],
   "name": "NUS TRAINER .ipynb",
   "provenance": [],
   "version": "0.3.2"
  },
  "kernelspec": {
   "display_name": "Python 3",
   "language": "python",
   "name": "python3"
  },
  "language_info": {
   "codemirror_mode": {
    "name": "ipython",
    "version": 3
   },
   "file_extension": ".py",
   "mimetype": "text/x-python",
   "name": "python",
   "nbconvert_exporter": "python",
   "pygments_lexer": "ipython3",
   "version": "3.5.6"
  }
 },
 "nbformat": 4,
 "nbformat_minor": 1
}
